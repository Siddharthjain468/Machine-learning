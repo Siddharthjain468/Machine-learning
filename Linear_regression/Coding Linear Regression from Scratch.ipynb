{
 "cells": [
  {
   "cell_type": "code",
   "execution_count": 1,
   "metadata": {},
   "outputs": [
    {
     "name": "stdout",
     "output_type": "stream",
     "text": [
      "0.91\n",
      "0.91\n",
      "2.12\n"
     ]
    }
   ],
   "source": [
    "import numpy as np\n",
    "from sklearn.model_selection import train_test_split\n",
    "\n",
    "data = np.loadtxt('path/FuelEconomy.csv', delimiter=',')\n",
    "X = data[:, 0]\n",
    "y = data[:, 1]\n",
    "\n",
    "X_train, X_test, Y_train, Y_test = train_test_split(X, y, test_size = 0.3, random_state=42)\n",
    "\n",
    "\n",
    "\n",
    "def fit(x_train, y_train):\n",
    "    xmean = x_train.mean()\n",
    "    xsqmean = ((x_train)**2).mean()\n",
    "    ymean = y_train.mean()\n",
    "    xymean = (x_train*y_train).mean()\n",
    "    m = (xymean - xmean*ymean)/(xsqmean - xmean*xmean)\n",
    "    c = ymean - (m*xmean)\n",
    "    return m, c\n",
    "\n",
    "\n",
    "def predict(x, m, c):\n",
    "    return ((x*m)+c)\n",
    "\n",
    "def score(y_truth, y_pred):\n",
    "    u = ((y_truth-y_pred)**2).sum()\n",
    "    v = ((y_truth-y_truth.mean())**2).sum()\n",
    "    return 1 - u/v\n",
    "\n",
    "def cost(x, y, m, c):\n",
    "    return ((y-m*x-c)**2).mean()\n",
    "\n",
    "\n",
    "m, c = fit(X_train, Y_train)\n",
    "\n",
    "y_test_pred = predict(X_test, m, c)\n",
    "y_train_pred = predict(X_train, m, c)\n",
    "\n",
    "print(round(score(Y_test, y_test_pred), 2))\n",
    "print(round(score(Y_train, y_train_pred), 2))\n",
    "print(np.round(cost(X_train,Y_train, m, c ), 2))"
   ]
  },
  {
   "cell_type": "code",
   "execution_count": null,
   "metadata": {},
   "outputs": [],
   "source": []
  }
 ],
 "metadata": {
  "kernelspec": {
   "display_name": "Python 3",
   "language": "python",
   "name": "python3"
  },
  "language_info": {
   "codemirror_mode": {
    "name": "ipython",
    "version": 3
   },
   "file_extension": ".py",
   "mimetype": "text/x-python",
   "name": "python",
   "nbconvert_exporter": "python",
   "pygments_lexer": "ipython3",
   "version": "3.11.1"
  },
  "orig_nbformat": 4,
  "vscode": {
   "interpreter": {
    "hash": "5a230e97fa44d95d98dd43a2d6286c290cdef9e4216036749696008144a88179"
   }
  }
 },
 "nbformat": 4,
 "nbformat_minor": 2
}
